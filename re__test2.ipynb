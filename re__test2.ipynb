{
 "cells": [
  {
   "cell_type": "code",
   "execution_count": 84,
   "id": "e65d504c",
   "metadata": {},
   "outputs": [],
   "source": [
    "import collections\n",
    "import numpy as np\n",
    "import pandas as pd\n",
    "from scipy.sparse import csr_matrix\n",
    "from sklearn.neighbors import NearestNeighbors\n",
    "from sklearn.model_selection import cross_val_score\n",
    "#載入影片資料\n",
    "film = pd.read_csv('ml-100k/u.item', sep='|', encoding='ISO-8859-1')\n",
    "film.columns = ['filmId', 'title', 'release date', 'video release date',\n",
    "              'IMDb URL', 'unknown', 'Action', 'Adventure', 'Animation',\n",
    "              'Children\\'s', 'Comedy', 'Crime', 'Documentary', 'Drama',\n",
    "              'Fantasy', 'Film-Noir', 'Horror', 'Musical', 'Mystery', 'Romance',\n",
    "               'Sci-Fi', 'Thriller', 'War', 'Western']\n",
    "columns = ['release date', 'video release date',\n",
    "          'IMDb URL', 'unknown', 'Action', 'Adventure', 'Animation',\n",
    "          'Children\\'s', 'Comedy', 'Crime', 'Documentary', 'Drama',\n",
    "          'Fantasy', 'Film-Noir', 'Horror', 'Musical', 'Mystery', 'Romance',\n",
    "           'Sci-Fi', 'Thriller', 'War', 'Western']\n",
    "film = film.drop(columns, axis=1)"
   ]
  },
  {
   "cell_type": "code",
   "execution_count": 180,
   "id": "94ca7234",
   "metadata": {},
   "outputs": [],
   "source": [
    "def Start(data, test_data, user_id, input_k):\n",
    "    data.columns = ['userId', 'filmId', 'rating', 'timestamp']\n",
    "    test_data.columns = ['userId', 'filmId', 'rating', 'timestamp']\n",
    "    data = data.drop(['timestamp'], axis=1)\n",
    "    test_data.drop(['timestamp'], axis=1)\n",
    "    #根據 filmId 和評分創建每個用戶的辭典\n",
    "    watched = collections.defaultdict(dict)\n",
    "    for i in data.values.tolist():\n",
    "        watched[i[0]][i[1]] = i[2]\n",
    "        \n",
    "    # 創建一個數據表，row = userId，col = filmId，值為評分\n",
    "    data_pivot = data.pivot(index='userId', columns = 'filmId',values='rating').fillna(0)\n",
    "    # 轉換稀疏矩陣\n",
    "    data_matrix = csr_matrix(data_pivot.values)\n",
    "    \n",
    "    knn = NearestNeighbors(metric = 'cosine', algorithm = 'brute')\n",
    "    knn.fit(data_matrix)\n",
    "    k = input_k\n",
    "    \n",
    "    user = user_id\n",
    "    user_index = user - 1\n",
    "    \n",
    "    # 尋找最近的鄰居\n",
    "    distances, indices = knn.kneighbors(data_pivot.iloc[user_index, :].values.reshape(1, -1), n_neighbors = k)\n",
    "    # 使用者看過的影片\n",
    "    user_watched = set(watched[data_pivot.index[user_index]])\n",
    "    neighbours_watched = {}\n",
    "    # 記錄下鄰居們和使用者的距離\n",
    "    for i in range(0, len(distances.flatten())):\n",
    "        neighbours_watched[data_pivot.index[indices.flatten()[i]]] = watched[data_pivot.index[indices.flatten()[i]]].copy()\n",
    "        #儲存資料供之後的預測評分用\n",
    "        for key, v in neighbours_watched[data_pivot.index[indices.flatten()[i]]].items():\n",
    "            neighbours_watched[data_pivot.index[indices.flatten()[i]]][key] = [1 - distances.flatten()[i], v]\n",
    "            \n",
    "    unwatched_films = []\n",
    "    for u in neighbours_watched:\n",
    "        a = neighbours_watched[u].keys() - user_watched.intersection(neighbours_watched[u].keys())\n",
    "        for f in a:\n",
    "            unwatched_films.append(f)\n",
    "    # 至少要有超過一個鄰居推薦，且還沒有看過的影片\n",
    "    common_unwatched = [item for item, count in collections.Counter(unwatched_films).items() if count > 1]\n",
    "    common_unwatched_rating = []\n",
    "    #預測使用者會給的分數\n",
    "    for f in common_unwatched:\n",
    "        m = []\n",
    "        w = []\n",
    "        for u in neighbours_watched:\n",
    "            if neighbours_watched[u].get(f) is not None:\n",
    "                m.append(neighbours_watched[u].get(f)[0]*neighbours_watched[u].get(f)[1])\n",
    "                w.append(neighbours_watched[u].get(f)[0])\n",
    "        common_unwatched_rating.append([np.sum(m)/np.sum(w), f])\n",
    "    common_unwatched_rating = sorted(common_unwatched_rating, reverse=True)\n",
    "    \n",
    "    #列出項目，計算分數準確率\n",
    "    cur_user = (test_data['userId'] == user_id)\n",
    "    valid_count = 0\n",
    "    total_score = 0\n",
    "    print('Top 10:')\n",
    "    for f in common_unwatched_rating[:10]:\n",
    "        whether_exist = (test_data[cur_user]['filmId'] == f[1])\n",
    "        print('{0} - {1} - {2:.2f}'.format(f[1], film.loc[film['filmId'] == f[1]]['title'].values[0], f[0]))\n",
    "        if(test_data[cur_user]['filmId'][whether_exist].empty):\n",
    "            pass\n",
    "            print('--no data')\n",
    "        else:\n",
    "            cur_user_rate = test_data[cur_user]['rating'][test_data[cur_user].index[whether_exist].tolist()[0]]\n",
    "            # 1 - 誤差率等於準確率\n",
    "            total_score += 1 - abs(cur_user_rate - f[0])/f[0]\n",
    "            valid_count += 1\n",
    "            print('--User ' + str(user_id) + ' rate the film as: ' + str(cur_user_rate))\n",
    "    if(total_score == 0):\n",
    "        return 0\n",
    "    else:\n",
    "        return total_score/valid_count"
   ]
  },
  {
   "cell_type": "code",
   "execution_count": 164,
   "id": "a8651a60",
   "metadata": {},
   "outputs": [],
   "source": [
    "all_data = pd.read_csv('ml-100k/u.data', sep='\\t', encoding='ISO-8859-1')\n",
    "u1_base = pd.read_csv('ml-100k/u1.base', sep='\\t', encoding='ISO-8859-1')\n",
    "u2_base = pd.read_csv('ml-100k/u2.base', sep='\\t', encoding='ISO-8859-1')\n",
    "u3_base = pd.read_csv('ml-100k/u3.base', sep='\\t', encoding='ISO-8859-1')\n",
    "u4_base = pd.read_csv('ml-100k/u4.base', sep='\\t', encoding='ISO-8859-1')\n",
    "u5_base = pd.read_csv('ml-100k/u5.base', sep='\\t', encoding='ISO-8859-1')\n",
    "u1_test = pd.read_csv('ml-100k/u1.test', sep='\\t', encoding='ISO-8859-1')\n",
    "u2_test = pd.read_csv('ml-100k/u2.test', sep='\\t', encoding='ISO-8859-1')\n",
    "u3_test = pd.read_csv('ml-100k/u3.test', sep='\\t', encoding='ISO-8859-1')\n",
    "u4_test = pd.read_csv('ml-100k/u4.test', sep='\\t', encoding='ISO-8859-1')\n",
    "u5_test = pd.read_csv('ml-100k/u5.test', sep='\\t', encoding='ISO-8859-1')"
   ]
  },
  {
   "attachments": {
    "ec6578f2-4c77-473f-9dad-6f3013903eef.png": {
     "image/png": "[encoded data removed]"
    }
   },
   "cell_type": "markdown",
   "id": "1e9b40ad-c076-4eae-877c-87a4fe0c932c",
   "metadata": {},
   "source": [
    "<font color=#ff0000>*定義計算分數的方式*</font>\n",
    "\n",
    "選定 user 範圍 1 ~ 15， k 值則在 5 到 25 中尋找最佳解。  \n",
    "計算分數的方式由推薦系統給的分數和實際該名 user 給的分數作對比。  \n",
    "如果沒有資料就 pass，如果有資料就計算誤差比率，並記錄下預測準確率。\n",
    "\n",
    "最後再 5 總train、test的分割方式中，取得平均，並找出最高分的做為預測用 K 值。\n",
    "\n",
    "![image.png](attachment:ec6578f2-4c77-473f-9dad-6f3013903eef.png)"
   ]
  },
  {
   "cell_type": "code",
   "execution_count": 167,
   "id": "d6618cfd",
   "metadata": {},
   "outputs": [],
   "source": [
    "# 根據推薦出電影分數，與使用者於test中實際的評分\n",
    "score1 = [0]*30\n",
    "score2 = [0]*30\n",
    "score3 = [0]*30\n",
    "score4 = [0]*30\n",
    "score5 = [0]*30\n",
    "\n",
    "for userId in range(1, 15):\n",
    "    for i in range(5, 25):\n",
    "        result = Start(u1_base, u1_test, userId, i)\n",
    "        if(result != 0):\n",
    "            score1[i-5] = (score1[i-5] + result)/2\n",
    "for userId in range(1, 15):\n",
    "    for i in range(5, 25):\n",
    "        result = Start(u2_base, u2_test, userId, i)\n",
    "        if(result != 0):\n",
    "            score2[i-5] = (score2[i-5] + result)/2\n",
    "for userId in range(1, 15):\n",
    "    for i in range(5, 25):\n",
    "        result = Start(u3_base, u3_test, userId, i)\n",
    "        if(result != 0):\n",
    "            score3[i-5] = (score3[i-5] + result)/2\n",
    "for userId in range(1, 15):\n",
    "    for i in range(5, 25):\n",
    "        result = Start(u4_base, u4_test, userId, i)\n",
    "        if(result != 0):\n",
    "            score4[i-5] = (score4[i-5] + result)/2\n",
    "for userId in range(1, 15):\n",
    "    for i in range(5, 25):\n",
    "        result = Start(u5_base, u5_test, userId, i)\n",
    "        if(result != 0):\n",
    "            score5[i-5] = (score5[i-5] + result)/2"
   ]
  },
  {
   "cell_type": "markdown",
   "id": "964547d7-f87d-4c90-96cb-96631fec6ac8",
   "metadata": {},
   "source": [
    "顯示各組 train、test 的計算出的分數結果"
   ]
  },
  {
   "cell_type": "code",
   "execution_count": 175,
   "id": "5b9baa14-06a6-4d91-8d32-457cd8fb10a5",
   "metadata": {
    "tags": []
   },
   "outputs": [
    {
     "name": "stdout",
     "output_type": "stream",
     "text": [
      "[0.87542634 0.82757397 0.85522358 0.88594116 0.85075532 0.8509556\n",
      " 0.83926313 0.83927947 0.83512634 0.84371688 0.84498771 0.81214176\n",
      " 0.88731661 0.88657233 0.72156905 0.72279474 0.88744039 0.89200579\n",
      " 0.91952795 0.91990454 0.         0.         0.         0.\n",
      " 0.         0.         0.         0.         0.         0.        ]\n",
      "[0.87464984 0.87080592 0.92573495 0.76028078 0.77089695 0.83171806\n",
      " 0.8358167  0.80764651 0.79515455 0.7967657  0.80483242 0.87404698\n",
      " 0.88256614 0.87945175 0.87767704 0.87991413 0.90292115 0.88860939\n",
      " 0.89974984 0.77534777 0.         0.         0.         0.\n",
      " 0.         0.         0.         0.         0.         0.        ]\n",
      "[0.94754624 0.94716364 0.89479335 0.94979768 0.90067314 0.80451292\n",
      " 0.89893234 0.88104781 0.89468379 0.86746089 0.87549821 0.69126661\n",
      " 0.69426687 0.89067484 0.89415326 0.89846422 0.90055519 0.87353658\n",
      " 0.89155175 0.89365713 0.         0.         0.         0.\n",
      " 0.         0.         0.         0.         0.         0.        ]\n",
      "[0.85324352 0.87626551 0.89986732 0.87529652 0.86677262 0.86753685\n",
      " 0.92024163 0.91485275 0.90496791 0.8831162  0.88678082 0.86165867\n",
      " 0.8968309  0.88352217 0.90415224 0.88355064 0.88356626 0.88197276\n",
      " 0.8396097  0.7547387  0.         0.         0.         0.\n",
      " 0.         0.         0.         0.         0.         0.        ]\n",
      "[0.84759902 0.87067418 0.87222538 0.90408393 0.8897862  0.88509461\n",
      " 0.8847136  0.85843683 0.87372358 0.88289884 0.89247542 0.87413462\n",
      " 0.8756253  0.87916312 0.88455292 0.88201605 0.88263803 0.87475589\n",
      " 0.86704673 0.85167604 0.         0.         0.         0.\n",
      " 0.         0.         0.         0.         0.         0.        ]\n"
     ]
    }
   ],
   "source": [
    "score1 = np.array(score1)\n",
    "score2 = np.array(score2)\n",
    "score3 = np.array(score3)\n",
    "score4 = np.array(score4)\n",
    "score5 = np.array(score5)\n",
    "print(score1)\n",
    "print(score2)\n",
    "print(score3)\n",
    "print(score4)\n",
    "print(score5)"
   ]
  },
  {
   "cell_type": "markdown",
   "id": "ab608e41-f035-4bf6-8514-a06a74b65266",
   "metadata": {},
   "source": [
    "最後將各項成績加總平均，得到 K = 18 時的預測表現最好"
   ]
  },
  {
   "cell_type": "code",
   "execution_count": 176,
   "id": "3918137a-1fad-4f22-bb69-212d76b8cba7",
   "metadata": {},
   "outputs": [
    {
     "data": {
      "text/plain": [
       "array([0.87969299, 0.87849665, 0.88956891, 0.87508001, 0.85577685,\n",
       "       0.84796361, 0.87579348, 0.86025267, 0.86073123, 0.8547917 ,\n",
       "       0.86091491, 0.82264973, 0.84732116, 0.88387684, 0.8564209 ,\n",
       "       0.85334795, 0.8914242 , 0.88217608, 0.88349719, 0.83906484,\n",
       "       0.        , 0.        , 0.        , 0.        , 0.        ,\n",
       "       0.        , 0.        , 0.        , 0.        , 0.        ])"
      ]
     },
     "execution_count": 176,
     "metadata": {},
     "output_type": "execute_result"
    }
   ],
   "source": [
    "mean_arr = (score1+score2+score3+score4+score5)/5\n",
    "mean_arr"
   ]
  }
 ],
 "metadata": {
  "kernelspec": {
   "display_name": "Python 3 (ipykernel)",
   "language": "python",
   "name": "python3"
  },
  "language_info": {
   "codemirror_mode": {
    "name": "ipython",
    "version": 3
   },
   "file_extension": ".py",
   "mimetype": "text/x-python",
   "name": "python",
   "nbconvert_exporter": "python",
   "pygments_lexer": "ipython3",
   "version": "3.9.7"
  }
 },
 "nbformat": 4,
 "nbformat_minor": 5
}
