{
 "cells": [
  {
   "cell_type": "markdown",
   "metadata": {
    "id": "8cltBSKqs0BP"
   },
   "source": [
    "# Load the dataset\n",
    "\n",
    "Please select these five files: u.data u.genre, u.item, u.occupation, and u.user\n"
   ]
  },
  {
   "cell_type": "code",
   "execution_count": 32,
   "metadata": {
    "colab": {
     "base_uri": "https://localhost:8080/",
     "height": 215
    },
    "id": "j2L0YODOrPm_",
    "outputId": "2733b758-b45e-4b96-d830-c792a3bcd182"
   },
   "outputs": [],
   "source": [
    "# from google.colab import files\n",
    "import pandas as pd\n",
    "import matplotlib.pyplot as plt\n",
    "\n",
    "#dataset = files.upload() # upload local files\n"
   ]
  },
  {
   "cell_type": "code",
   "execution_count": 33,
   "metadata": {
    "id": "34bliSfjwZg_"
   },
   "outputs": [],
   "source": [
    "# load the movie rating data into a dataframe\n",
    "rating_header = [\"user_id\", \"item_id\", \"rating\", \"timestamp\"]\n",
    "rating = pd.read_csv(\"u.data\", sep = '\\t', header = None, names=rating_header)"
   ]
  },
  {
   "cell_type": "code",
   "execution_count": 34,
   "metadata": {
    "colab": {
     "base_uri": "https://localhost:8080/",
     "height": 206
    },
    "id": "6mLggOfY80sZ",
    "outputId": "1a93233e-150d-40d6-c2e0-36ba4321d868"
   },
   "outputs": [
    {
     "data": {
      "text/html": [
       "<div>\n",
       "<style scoped>\n",
       "    .dataframe tbody tr th:only-of-type {\n",
       "        vertical-align: middle;\n",
       "    }\n",
       "\n",
       "    .dataframe tbody tr th {\n",
       "        vertical-align: top;\n",
       "    }\n",
       "\n",
       "    .dataframe thead th {\n",
       "        text-align: right;\n",
       "    }\n",
       "</style>\n",
       "<table border=\"1\" class=\"dataframe\">\n",
       "  <thead>\n",
       "    <tr style=\"text-align: right;\">\n",
       "      <th></th>\n",
       "      <th>user_id</th>\n",
       "      <th>item_id</th>\n",
       "      <th>rating</th>\n",
       "      <th>timestamp</th>\n",
       "    </tr>\n",
       "  </thead>\n",
       "  <tbody>\n",
       "    <tr>\n",
       "      <th>0</th>\n",
       "      <td>196</td>\n",
       "      <td>242</td>\n",
       "      <td>3</td>\n",
       "      <td>881250949</td>\n",
       "    </tr>\n",
       "    <tr>\n",
       "      <th>1</th>\n",
       "      <td>186</td>\n",
       "      <td>302</td>\n",
       "      <td>3</td>\n",
       "      <td>891717742</td>\n",
       "    </tr>\n",
       "    <tr>\n",
       "      <th>2</th>\n",
       "      <td>22</td>\n",
       "      <td>377</td>\n",
       "      <td>1</td>\n",
       "      <td>878887116</td>\n",
       "    </tr>\n",
       "    <tr>\n",
       "      <th>3</th>\n",
       "      <td>244</td>\n",
       "      <td>51</td>\n",
       "      <td>2</td>\n",
       "      <td>880606923</td>\n",
       "    </tr>\n",
       "    <tr>\n",
       "      <th>4</th>\n",
       "      <td>166</td>\n",
       "      <td>346</td>\n",
       "      <td>1</td>\n",
       "      <td>886397596</td>\n",
       "    </tr>\n",
       "  </tbody>\n",
       "</table>\n",
       "</div>"
      ],
      "text/plain": [
       "   user_id  item_id  rating  timestamp\n",
       "0      196      242       3  881250949\n",
       "1      186      302       3  891717742\n",
       "2       22      377       1  878887116\n",
       "3      244       51       2  880606923\n",
       "4      166      346       1  886397596"
      ]
     },
     "execution_count": 34,
     "metadata": {},
     "output_type": "execute_result"
    }
   ],
   "source": [
    "rating.head()"
   ]
  },
  {
   "cell_type": "code",
   "execution_count": 35,
   "metadata": {
    "colab": {
     "base_uri": "https://localhost:8080/"
    },
    "id": "pw3GHgXOGtYm",
    "outputId": "6aa7a133-be8c-41ec-ef5e-56f696c89777"
   },
   "outputs": [
    {
     "name": "stdout",
     "output_type": "stream",
     "text": [
      "<class 'pandas.core.frame.DataFrame'>\n",
      "RangeIndex: 100000 entries, 0 to 99999\n",
      "Data columns (total 4 columns):\n",
      " #   Column     Non-Null Count   Dtype\n",
      "---  ------     --------------   -----\n",
      " 0   user_id    100000 non-null  int64\n",
      " 1   item_id    100000 non-null  int64\n",
      " 2   rating     100000 non-null  int64\n",
      " 3   timestamp  100000 non-null  int64\n",
      "dtypes: int64(4)\n",
      "memory usage: 3.1 MB\n"
     ]
    }
   ],
   "source": [
    "rating.info()"
   ]
  },
  {
   "cell_type": "code",
   "execution_count": null,
   "metadata": {
    "id": "C633AWFGG1LR"
   },
   "outputs": [],
   "source": []
  },
  {
   "cell_type": "code",
   "execution_count": 36,
   "metadata": {
    "id": "Qd6cG1839lRz"
   },
   "outputs": [],
   "source": [
    "# load the user data into a dataframe\n",
    "user_header = [\"user_id\", \"age\", \"gender\", \"occupation\", \"zip_code\"]\n",
    "users = pd.read_csv(\"u.user\", sep = '|', header = None, names=user_header)"
   ]
  },
  {
   "cell_type": "code",
   "execution_count": 37,
   "metadata": {
    "colab": {
     "base_uri": "https://localhost:8080/",
     "height": 206
    },
    "id": "ejOZqTJn-QkL",
    "outputId": "729fcc52-0173-4853-f256-385422757ba3"
   },
   "outputs": [
    {
     "data": {
      "text/html": [
       "<div>\n",
       "<style scoped>\n",
       "    .dataframe tbody tr th:only-of-type {\n",
       "        vertical-align: middle;\n",
       "    }\n",
       "\n",
       "    .dataframe tbody tr th {\n",
       "        vertical-align: top;\n",
       "    }\n",
       "\n",
       "    .dataframe thead th {\n",
       "        text-align: right;\n",
       "    }\n",
       "</style>\n",
       "<table border=\"1\" class=\"dataframe\">\n",
       "  <thead>\n",
       "    <tr style=\"text-align: right;\">\n",
       "      <th></th>\n",
       "      <th>user_id</th>\n",
       "      <th>age</th>\n",
       "      <th>gender</th>\n",
       "      <th>occupation</th>\n",
       "      <th>zip_code</th>\n",
       "    </tr>\n",
       "  </thead>\n",
       "  <tbody>\n",
       "    <tr>\n",
       "      <th>0</th>\n",
       "      <td>1</td>\n",
       "      <td>24</td>\n",
       "      <td>M</td>\n",
       "      <td>technician</td>\n",
       "      <td>85711</td>\n",
       "    </tr>\n",
       "    <tr>\n",
       "      <th>1</th>\n",
       "      <td>2</td>\n",
       "      <td>53</td>\n",
       "      <td>F</td>\n",
       "      <td>other</td>\n",
       "      <td>94043</td>\n",
       "    </tr>\n",
       "    <tr>\n",
       "      <th>2</th>\n",
       "      <td>3</td>\n",
       "      <td>23</td>\n",
       "      <td>M</td>\n",
       "      <td>writer</td>\n",
       "      <td>32067</td>\n",
       "    </tr>\n",
       "    <tr>\n",
       "      <th>3</th>\n",
       "      <td>4</td>\n",
       "      <td>24</td>\n",
       "      <td>M</td>\n",
       "      <td>technician</td>\n",
       "      <td>43537</td>\n",
       "    </tr>\n",
       "    <tr>\n",
       "      <th>4</th>\n",
       "      <td>5</td>\n",
       "      <td>33</td>\n",
       "      <td>F</td>\n",
       "      <td>other</td>\n",
       "      <td>15213</td>\n",
       "    </tr>\n",
       "  </tbody>\n",
       "</table>\n",
       "</div>"
      ],
      "text/plain": [
       "   user_id  age gender  occupation zip_code\n",
       "0        1   24      M  technician    85711\n",
       "1        2   53      F       other    94043\n",
       "2        3   23      M      writer    32067\n",
       "3        4   24      M  technician    43537\n",
       "4        5   33      F       other    15213"
      ]
     },
     "execution_count": 37,
     "metadata": {},
     "output_type": "execute_result"
    }
   ],
   "source": [
    "users.head()"
   ]
  },
  {
   "cell_type": "code",
   "execution_count": 38,
   "metadata": {
    "colab": {
     "base_uri": "https://localhost:8080/",
     "height": 112
    },
    "id": "aqM0BgMH7FXb",
    "outputId": "edd407c2-5901-4f5f-8d74-ad61b2931409"
   },
   "outputs": [
    {
     "data": {
      "text/html": [
       "<div>\n",
       "<style scoped>\n",
       "    .dataframe tbody tr th:only-of-type {\n",
       "        vertical-align: middle;\n",
       "    }\n",
       "\n",
       "    .dataframe tbody tr th {\n",
       "        vertical-align: top;\n",
       "    }\n",
       "\n",
       "    .dataframe thead th {\n",
       "        text-align: right;\n",
       "    }\n",
       "</style>\n",
       "<table border=\"1\" class=\"dataframe\">\n",
       "  <thead>\n",
       "    <tr style=\"text-align: right;\">\n",
       "      <th></th>\n",
       "      <th>user_id</th>\n",
       "      <th>age</th>\n",
       "      <th>gender</th>\n",
       "      <th>occupation</th>\n",
       "      <th>zip_code</th>\n",
       "    </tr>\n",
       "  </thead>\n",
       "  <tbody>\n",
       "    <tr>\n",
       "      <th>73</th>\n",
       "      <td>74</td>\n",
       "      <td>39</td>\n",
       "      <td>M</td>\n",
       "      <td>scientist</td>\n",
       "      <td>T8H1N</td>\n",
       "    </tr>\n",
       "    <tr>\n",
       "      <th>633</th>\n",
       "      <td>634</td>\n",
       "      <td>39</td>\n",
       "      <td>M</td>\n",
       "      <td>engineer</td>\n",
       "      <td>T8H1N</td>\n",
       "    </tr>\n",
       "  </tbody>\n",
       "</table>\n",
       "</div>"
      ],
      "text/plain": [
       "     user_id  age gender occupation zip_code\n",
       "73        74   39      M  scientist    T8H1N\n",
       "633      634   39      M   engineer    T8H1N"
      ]
     },
     "execution_count": 38,
     "metadata": {},
     "output_type": "execute_result"
    }
   ],
   "source": [
    "users.loc[users['zip_code'] == 'T8H1N']"
   ]
  },
  {
   "cell_type": "code",
   "execution_count": 39,
   "metadata": {
    "colab": {
     "base_uri": "https://localhost:8080/"
    },
    "id": "9qetRUagG7Ne",
    "outputId": "b3fd8545-c230-40c5-b8d0-4accb6b2e940"
   },
   "outputs": [
    {
     "name": "stdout",
     "output_type": "stream",
     "text": [
      "<class 'pandas.core.frame.DataFrame'>\n",
      "RangeIndex: 943 entries, 0 to 942\n",
      "Data columns (total 5 columns):\n",
      " #   Column      Non-Null Count  Dtype \n",
      "---  ------      --------------  ----- \n",
      " 0   user_id     943 non-null    int64 \n",
      " 1   age         943 non-null    int64 \n",
      " 2   gender      943 non-null    object\n",
      " 3   occupation  943 non-null    object\n",
      " 4   zip_code    943 non-null    object\n",
      "dtypes: int64(2), object(3)\n",
      "memory usage: 37.0+ KB\n"
     ]
    }
   ],
   "source": [
    "users.info()"
   ]
  },
  {
   "cell_type": "code",
   "execution_count": 40,
   "metadata": {
    "id": "mI-pSt6oDgGW"
   },
   "outputs": [],
   "source": [
    "# load movie data into a dataframe\n",
    "movie_header = [\"item_id\", \"title\", \"release_date\", \"video_release_date\", \"IMDb_URL\",\n",
    "         \"unknown\", \"Action\", \"Adventure\", \"Animation\",\"Children's\", \"Comedy\", \"Crime\",\n",
    "         \"Documentary\", \"Drama\", \"Fantasy\", \"Film-Noir\", \"Horror\", \"Musical\", \"Mystery\", \n",
    "         \"Romance\", \"Sci-Fi\", \"Thriller\", \"War\", \"Western\"]\n",
    "movies = pd.read_csv(\"u.item\", sep = '|', header = None, encoding = 'latin1', names = movie_header)"
   ]
  },
  {
   "cell_type": "code",
   "execution_count": 41,
   "metadata": {
    "colab": {
     "base_uri": "https://localhost:8080/",
     "height": 438
    },
    "id": "FppHgAJ4HOcA",
    "outputId": "667298ad-48dc-456e-cf94-a0be44bb4992"
   },
   "outputs": [
    {
     "data": {
      "text/html": [
       "<div>\n",
       "<style scoped>\n",
       "    .dataframe tbody tr th:only-of-type {\n",
       "        vertical-align: middle;\n",
       "    }\n",
       "\n",
       "    .dataframe tbody tr th {\n",
       "        vertical-align: top;\n",
       "    }\n",
       "\n",
       "    .dataframe thead th {\n",
       "        text-align: right;\n",
       "    }\n",
       "</style>\n",
       "<table border=\"1\" class=\"dataframe\">\n",
       "  <thead>\n",
       "    <tr style=\"text-align: right;\">\n",
       "      <th></th>\n",
       "      <th>item_id</th>\n",
       "      <th>title</th>\n",
       "      <th>release_date</th>\n",
       "      <th>IMDb_URL</th>\n",
       "      <th>unknown</th>\n",
       "      <th>Action</th>\n",
       "      <th>Adventure</th>\n",
       "      <th>Animation</th>\n",
       "      <th>Children's</th>\n",
       "      <th>Comedy</th>\n",
       "      <th>...</th>\n",
       "      <th>Fantasy</th>\n",
       "      <th>Film-Noir</th>\n",
       "      <th>Horror</th>\n",
       "      <th>Musical</th>\n",
       "      <th>Mystery</th>\n",
       "      <th>Romance</th>\n",
       "      <th>Sci-Fi</th>\n",
       "      <th>Thriller</th>\n",
       "      <th>War</th>\n",
       "      <th>Western</th>\n",
       "    </tr>\n",
       "  </thead>\n",
       "  <tbody>\n",
       "    <tr>\n",
       "      <th>0</th>\n",
       "      <td>1</td>\n",
       "      <td>Toy Story (1995)</td>\n",
       "      <td>01-Jan-1995</td>\n",
       "      <td>http://us.imdb.com/M/title-exact?Toy%20Story%2...</td>\n",
       "      <td>0</td>\n",
       "      <td>0</td>\n",
       "      <td>0</td>\n",
       "      <td>1</td>\n",
       "      <td>1</td>\n",
       "      <td>1</td>\n",
       "      <td>...</td>\n",
       "      <td>0</td>\n",
       "      <td>0</td>\n",
       "      <td>0</td>\n",
       "      <td>0</td>\n",
       "      <td>0</td>\n",
       "      <td>0</td>\n",
       "      <td>0</td>\n",
       "      <td>0</td>\n",
       "      <td>0</td>\n",
       "      <td>0</td>\n",
       "    </tr>\n",
       "    <tr>\n",
       "      <th>1</th>\n",
       "      <td>2</td>\n",
       "      <td>GoldenEye (1995)</td>\n",
       "      <td>01-Jan-1995</td>\n",
       "      <td>http://us.imdb.com/M/title-exact?GoldenEye%20(...</td>\n",
       "      <td>0</td>\n",
       "      <td>1</td>\n",
       "      <td>1</td>\n",
       "      <td>0</td>\n",
       "      <td>0</td>\n",
       "      <td>0</td>\n",
       "      <td>...</td>\n",
       "      <td>0</td>\n",
       "      <td>0</td>\n",
       "      <td>0</td>\n",
       "      <td>0</td>\n",
       "      <td>0</td>\n",
       "      <td>0</td>\n",
       "      <td>0</td>\n",
       "      <td>1</td>\n",
       "      <td>0</td>\n",
       "      <td>0</td>\n",
       "    </tr>\n",
       "    <tr>\n",
       "      <th>2</th>\n",
       "      <td>3</td>\n",
       "      <td>Four Rooms (1995)</td>\n",
       "      <td>01-Jan-1995</td>\n",
       "      <td>http://us.imdb.com/M/title-exact?Four%20Rooms%...</td>\n",
       "      <td>0</td>\n",
       "      <td>0</td>\n",
       "      <td>0</td>\n",
       "      <td>0</td>\n",
       "      <td>0</td>\n",
       "      <td>0</td>\n",
       "      <td>...</td>\n",
       "      <td>0</td>\n",
       "      <td>0</td>\n",
       "      <td>0</td>\n",
       "      <td>0</td>\n",
       "      <td>0</td>\n",
       "      <td>0</td>\n",
       "      <td>0</td>\n",
       "      <td>1</td>\n",
       "      <td>0</td>\n",
       "      <td>0</td>\n",
       "    </tr>\n",
       "    <tr>\n",
       "      <th>3</th>\n",
       "      <td>4</td>\n",
       "      <td>Get Shorty (1995)</td>\n",
       "      <td>01-Jan-1995</td>\n",
       "      <td>http://us.imdb.com/M/title-exact?Get%20Shorty%...</td>\n",
       "      <td>0</td>\n",
       "      <td>1</td>\n",
       "      <td>0</td>\n",
       "      <td>0</td>\n",
       "      <td>0</td>\n",
       "      <td>1</td>\n",
       "      <td>...</td>\n",
       "      <td>0</td>\n",
       "      <td>0</td>\n",
       "      <td>0</td>\n",
       "      <td>0</td>\n",
       "      <td>0</td>\n",
       "      <td>0</td>\n",
       "      <td>0</td>\n",
       "      <td>0</td>\n",
       "      <td>0</td>\n",
       "      <td>0</td>\n",
       "    </tr>\n",
       "    <tr>\n",
       "      <th>4</th>\n",
       "      <td>5</td>\n",
       "      <td>Copycat (1995)</td>\n",
       "      <td>01-Jan-1995</td>\n",
       "      <td>http://us.imdb.com/M/title-exact?Copycat%20(1995)</td>\n",
       "      <td>0</td>\n",
       "      <td>0</td>\n",
       "      <td>0</td>\n",
       "      <td>0</td>\n",
       "      <td>0</td>\n",
       "      <td>0</td>\n",
       "      <td>...</td>\n",
       "      <td>0</td>\n",
       "      <td>0</td>\n",
       "      <td>0</td>\n",
       "      <td>0</td>\n",
       "      <td>0</td>\n",
       "      <td>0</td>\n",
       "      <td>0</td>\n",
       "      <td>1</td>\n",
       "      <td>0</td>\n",
       "      <td>0</td>\n",
       "    </tr>\n",
       "  </tbody>\n",
       "</table>\n",
       "<p>5 rows × 23 columns</p>\n",
       "</div>"
      ],
      "text/plain": [
       "   item_id              title release_date  \\\n",
       "0        1   Toy Story (1995)  01-Jan-1995   \n",
       "1        2   GoldenEye (1995)  01-Jan-1995   \n",
       "2        3  Four Rooms (1995)  01-Jan-1995   \n",
       "3        4  Get Shorty (1995)  01-Jan-1995   \n",
       "4        5     Copycat (1995)  01-Jan-1995   \n",
       "\n",
       "                                            IMDb_URL  unknown  Action  \\\n",
       "0  http://us.imdb.com/M/title-exact?Toy%20Story%2...        0       0   \n",
       "1  http://us.imdb.com/M/title-exact?GoldenEye%20(...        0       1   \n",
       "2  http://us.imdb.com/M/title-exact?Four%20Rooms%...        0       0   \n",
       "3  http://us.imdb.com/M/title-exact?Get%20Shorty%...        0       1   \n",
       "4  http://us.imdb.com/M/title-exact?Copycat%20(1995)        0       0   \n",
       "\n",
       "   Adventure  Animation  Children's  Comedy  ...  Fantasy  Film-Noir  Horror  \\\n",
       "0          0          1           1       1  ...        0          0       0   \n",
       "1          1          0           0       0  ...        0          0       0   \n",
       "2          0          0           0       0  ...        0          0       0   \n",
       "3          0          0           0       1  ...        0          0       0   \n",
       "4          0          0           0       0  ...        0          0       0   \n",
       "\n",
       "   Musical  Mystery  Romance  Sci-Fi  Thriller  War  Western  \n",
       "0        0        0        0       0         0    0        0  \n",
       "1        0        0        0       0         1    0        0  \n",
       "2        0        0        0       0         1    0        0  \n",
       "3        0        0        0       0         0    0        0  \n",
       "4        0        0        0       0         1    0        0  \n",
       "\n",
       "[5 rows x 23 columns]"
      ]
     },
     "execution_count": 41,
     "metadata": {},
     "output_type": "execute_result"
    }
   ],
   "source": [
    "# remove the video release date (no values)\n",
    "movies = movies.drop(columns=['video_release_date'])\n",
    "movies.head()"
   ]
  },
  {
   "cell_type": "code",
   "execution_count": 42,
   "metadata": {
    "colab": {
     "base_uri": "https://localhost:8080/"
    },
    "id": "AnueLQsDHYsJ",
    "outputId": "4cad80c1-d435-4e4c-f83b-cbeedcdc9d41"
   },
   "outputs": [
    {
     "name": "stdout",
     "output_type": "stream",
     "text": [
      "<class 'pandas.core.frame.DataFrame'>\n",
      "RangeIndex: 1682 entries, 0 to 1681\n",
      "Data columns (total 23 columns):\n",
      " #   Column        Non-Null Count  Dtype \n",
      "---  ------        --------------  ----- \n",
      " 0   item_id       1682 non-null   int64 \n",
      " 1   title         1682 non-null   object\n",
      " 2   release_date  1681 non-null   object\n",
      " 3   IMDb_URL      1679 non-null   object\n",
      " 4   unknown       1682 non-null   int64 \n",
      " 5   Action        1682 non-null   int64 \n",
      " 6   Adventure     1682 non-null   int64 \n",
      " 7   Animation     1682 non-null   int64 \n",
      " 8   Children's    1682 non-null   int64 \n",
      " 9   Comedy        1682 non-null   int64 \n",
      " 10  Crime         1682 non-null   int64 \n",
      " 11  Documentary   1682 non-null   int64 \n",
      " 12  Drama         1682 non-null   int64 \n",
      " 13  Fantasy       1682 non-null   int64 \n",
      " 14  Film-Noir     1682 non-null   int64 \n",
      " 15  Horror        1682 non-null   int64 \n",
      " 16  Musical       1682 non-null   int64 \n",
      " 17  Mystery       1682 non-null   int64 \n",
      " 18  Romance       1682 non-null   int64 \n",
      " 19  Sci-Fi        1682 non-null   int64 \n",
      " 20  Thriller      1682 non-null   int64 \n",
      " 21  War           1682 non-null   int64 \n",
      " 22  Western       1682 non-null   int64 \n",
      "dtypes: int64(20), object(3)\n",
      "memory usage: 302.4+ KB\n"
     ]
    }
   ],
   "source": [
    "movies.info()"
   ]
  },
  {
   "cell_type": "markdown",
   "metadata": {
    "id": "Su51K3-7Cp-Z"
   },
   "source": [
    "# Data Transformation and Combination\n",
    "Some ML approaches expect the data set with numerical values only, the following codes show how to convert catergorical data into numbers"
   ]
  },
  {
   "cell_type": "code",
   "execution_count": 43,
   "metadata": {
    "id": "HtYUaU_RC146"
   },
   "outputs": [],
   "source": [
    "# transfrom the users dataframe with numerical values (excluding zip_code)\n",
    "users_num = users.copy()\n",
    "users_num[\"gender\"].replace(['F', 'M'],[0, 1], inplace=True) # replace F and M with 0 and 1, respectively"
   ]
  },
  {
   "cell_type": "code",
   "execution_count": 44,
   "metadata": {
    "colab": {
     "base_uri": "https://localhost:8080/",
     "height": 206
    },
    "id": "np7hf5tdC6JX",
    "outputId": "4161e613-9df7-488e-d663-f3523d3ae9ec"
   },
   "outputs": [
    {
     "data": {
      "text/html": [
       "<div>\n",
       "<style scoped>\n",
       "    .dataframe tbody tr th:only-of-type {\n",
       "        vertical-align: middle;\n",
       "    }\n",
       "\n",
       "    .dataframe tbody tr th {\n",
       "        vertical-align: top;\n",
       "    }\n",
       "\n",
       "    .dataframe thead th {\n",
       "        text-align: right;\n",
       "    }\n",
       "</style>\n",
       "<table border=\"1\" class=\"dataframe\">\n",
       "  <thead>\n",
       "    <tr style=\"text-align: right;\">\n",
       "      <th></th>\n",
       "      <th>user_id</th>\n",
       "      <th>age</th>\n",
       "      <th>gender</th>\n",
       "      <th>occupation</th>\n",
       "      <th>zip_code</th>\n",
       "    </tr>\n",
       "  </thead>\n",
       "  <tbody>\n",
       "    <tr>\n",
       "      <th>0</th>\n",
       "      <td>1</td>\n",
       "      <td>24</td>\n",
       "      <td>1</td>\n",
       "      <td>19</td>\n",
       "      <td>85711</td>\n",
       "    </tr>\n",
       "    <tr>\n",
       "      <th>1</th>\n",
       "      <td>2</td>\n",
       "      <td>53</td>\n",
       "      <td>0</td>\n",
       "      <td>13</td>\n",
       "      <td>94043</td>\n",
       "    </tr>\n",
       "    <tr>\n",
       "      <th>2</th>\n",
       "      <td>3</td>\n",
       "      <td>23</td>\n",
       "      <td>1</td>\n",
       "      <td>20</td>\n",
       "      <td>32067</td>\n",
       "    </tr>\n",
       "    <tr>\n",
       "      <th>3</th>\n",
       "      <td>4</td>\n",
       "      <td>24</td>\n",
       "      <td>1</td>\n",
       "      <td>19</td>\n",
       "      <td>43537</td>\n",
       "    </tr>\n",
       "    <tr>\n",
       "      <th>4</th>\n",
       "      <td>5</td>\n",
       "      <td>33</td>\n",
       "      <td>0</td>\n",
       "      <td>13</td>\n",
       "      <td>15213</td>\n",
       "    </tr>\n",
       "  </tbody>\n",
       "</table>\n",
       "</div>"
      ],
      "text/plain": [
       "   user_id  age  gender  occupation zip_code\n",
       "0        1   24       1          19    85711\n",
       "1        2   53       0          13    94043\n",
       "2        3   23       1          20    32067\n",
       "3        4   24       1          19    43537\n",
       "4        5   33       0          13    15213"
      ]
     },
     "execution_count": 44,
     "metadata": {},
     "output_type": "execute_result"
    }
   ],
   "source": [
    "occupation = pd.read_csv(\"u.occupation\", header = None)\n",
    "occupation_list = occupation.values\n",
    "users_num[\"occupation\"].replace(occupation_list,list(range(0, len(occupation_list))), inplace=True)\n",
    "users_num.head()"
   ]
  },
  {
   "cell_type": "markdown",
   "metadata": {
    "id": "sQ-EdD7ZDPP4"
   },
   "source": [
    "Data Group By:\n",
    "The following codes show how to compute the average rating score for each movie item "
   ]
  },
  {
   "cell_type": "code",
   "execution_count": 45,
   "metadata": {
    "colab": {
     "base_uri": "https://localhost:8080/",
     "height": 206
    },
    "id": "wWfT6vH6tet_",
    "outputId": "8f8ba943-a97c-4a8f-e4fc-5d0d32413bd6"
   },
   "outputs": [
    {
     "data": {
      "text/html": [
       "<div>\n",
       "<style scoped>\n",
       "    .dataframe tbody tr th:only-of-type {\n",
       "        vertical-align: middle;\n",
       "    }\n",
       "\n",
       "    .dataframe tbody tr th {\n",
       "        vertical-align: top;\n",
       "    }\n",
       "\n",
       "    .dataframe thead th {\n",
       "        text-align: right;\n",
       "    }\n",
       "</style>\n",
       "<table border=\"1\" class=\"dataframe\">\n",
       "  <thead>\n",
       "    <tr style=\"text-align: right;\">\n",
       "      <th></th>\n",
       "      <th>item_id</th>\n",
       "      <th>rating</th>\n",
       "    </tr>\n",
       "  </thead>\n",
       "  <tbody>\n",
       "    <tr>\n",
       "      <th>813</th>\n",
       "      <td>814</td>\n",
       "      <td>5.0</td>\n",
       "    </tr>\n",
       "    <tr>\n",
       "      <th>1598</th>\n",
       "      <td>1599</td>\n",
       "      <td>5.0</td>\n",
       "    </tr>\n",
       "    <tr>\n",
       "      <th>1200</th>\n",
       "      <td>1201</td>\n",
       "      <td>5.0</td>\n",
       "    </tr>\n",
       "    <tr>\n",
       "      <th>1121</th>\n",
       "      <td>1122</td>\n",
       "      <td>5.0</td>\n",
       "    </tr>\n",
       "    <tr>\n",
       "      <th>1652</th>\n",
       "      <td>1653</td>\n",
       "      <td>5.0</td>\n",
       "    </tr>\n",
       "  </tbody>\n",
       "</table>\n",
       "</div>"
      ],
      "text/plain": [
       "      item_id  rating\n",
       "813       814     5.0\n",
       "1598     1599     5.0\n",
       "1200     1201     5.0\n",
       "1121     1122     5.0\n",
       "1652     1653     5.0"
      ]
     },
     "execution_count": 45,
     "metadata": {},
     "output_type": "execute_result"
    }
   ],
   "source": [
    "# data aggregation\n",
    "average_rating = rating[[\"item_id\", \"rating\"]].groupby(\"item_id\", as_index=False).mean()  # average rating per movie\n",
    "average_rating.sort_values(\"rating\",ascending=False).head()"
   ]
  },
  {
   "cell_type": "markdown",
   "metadata": {
    "id": "vspKwhtsDhCC"
   },
   "source": [
    "Merge Dataframes:\n",
    "The following codes show how to merge two dataframes"
   ]
  },
  {
   "cell_type": "code",
   "execution_count": 46,
   "metadata": {
    "colab": {
     "base_uri": "https://localhost:8080/",
     "height": 424
    },
    "id": "coIRPwpm3TBX",
    "outputId": "825b0ede-102a-49c5-fedd-8e9a6b95202e"
   },
   "outputs": [
    {
     "data": {
      "text/html": [
       "<div>\n",
       "<style scoped>\n",
       "    .dataframe tbody tr th:only-of-type {\n",
       "        vertical-align: middle;\n",
       "    }\n",
       "\n",
       "    .dataframe tbody tr th {\n",
       "        vertical-align: top;\n",
       "    }\n",
       "\n",
       "    .dataframe thead th {\n",
       "        text-align: right;\n",
       "    }\n",
       "</style>\n",
       "<table border=\"1\" class=\"dataframe\">\n",
       "  <thead>\n",
       "    <tr style=\"text-align: right;\">\n",
       "      <th></th>\n",
       "      <th>item_id</th>\n",
       "      <th>rating</th>\n",
       "      <th>title</th>\n",
       "    </tr>\n",
       "  </thead>\n",
       "  <tbody>\n",
       "    <tr>\n",
       "      <th>0</th>\n",
       "      <td>1</td>\n",
       "      <td>3.878319</td>\n",
       "      <td>Toy Story (1995)</td>\n",
       "    </tr>\n",
       "    <tr>\n",
       "      <th>1</th>\n",
       "      <td>2</td>\n",
       "      <td>3.206107</td>\n",
       "      <td>GoldenEye (1995)</td>\n",
       "    </tr>\n",
       "    <tr>\n",
       "      <th>2</th>\n",
       "      <td>3</td>\n",
       "      <td>3.033333</td>\n",
       "      <td>Four Rooms (1995)</td>\n",
       "    </tr>\n",
       "    <tr>\n",
       "      <th>3</th>\n",
       "      <td>4</td>\n",
       "      <td>3.550239</td>\n",
       "      <td>Get Shorty (1995)</td>\n",
       "    </tr>\n",
       "    <tr>\n",
       "      <th>4</th>\n",
       "      <td>5</td>\n",
       "      <td>3.302326</td>\n",
       "      <td>Copycat (1995)</td>\n",
       "    </tr>\n",
       "    <tr>\n",
       "      <th>...</th>\n",
       "      <td>...</td>\n",
       "      <td>...</td>\n",
       "      <td>...</td>\n",
       "    </tr>\n",
       "    <tr>\n",
       "      <th>1677</th>\n",
       "      <td>1678</td>\n",
       "      <td>1.000000</td>\n",
       "      <td>Mat' i syn (1997)</td>\n",
       "    </tr>\n",
       "    <tr>\n",
       "      <th>1678</th>\n",
       "      <td>1679</td>\n",
       "      <td>3.000000</td>\n",
       "      <td>B. Monkey (1998)</td>\n",
       "    </tr>\n",
       "    <tr>\n",
       "      <th>1679</th>\n",
       "      <td>1680</td>\n",
       "      <td>2.000000</td>\n",
       "      <td>Sliding Doors (1998)</td>\n",
       "    </tr>\n",
       "    <tr>\n",
       "      <th>1680</th>\n",
       "      <td>1681</td>\n",
       "      <td>3.000000</td>\n",
       "      <td>You So Crazy (1994)</td>\n",
       "    </tr>\n",
       "    <tr>\n",
       "      <th>1681</th>\n",
       "      <td>1682</td>\n",
       "      <td>3.000000</td>\n",
       "      <td>Scream of Stone (Schrei aus Stein) (1991)</td>\n",
       "    </tr>\n",
       "  </tbody>\n",
       "</table>\n",
       "<p>1682 rows × 3 columns</p>\n",
       "</div>"
      ],
      "text/plain": [
       "      item_id    rating                                      title\n",
       "0           1  3.878319                           Toy Story (1995)\n",
       "1           2  3.206107                           GoldenEye (1995)\n",
       "2           3  3.033333                          Four Rooms (1995)\n",
       "3           4  3.550239                          Get Shorty (1995)\n",
       "4           5  3.302326                             Copycat (1995)\n",
       "...       ...       ...                                        ...\n",
       "1677     1678  1.000000                          Mat' i syn (1997)\n",
       "1678     1679  3.000000                           B. Monkey (1998)\n",
       "1679     1680  2.000000                       Sliding Doors (1998)\n",
       "1680     1681  3.000000                        You So Crazy (1994)\n",
       "1681     1682  3.000000  Scream of Stone (Schrei aus Stein) (1991)\n",
       "\n",
       "[1682 rows x 3 columns]"
      ]
     },
     "execution_count": 46,
     "metadata": {},
     "output_type": "execute_result"
    }
   ],
   "source": [
    "# merge two dataframes (average_rating and movies)\n",
    "pd.merge(average_rating, movies[[\"item_id\", \"title\"]])"
   ]
  },
  {
   "cell_type": "markdown",
   "metadata": {
    "id": "jgVKG4zTsRPH"
   },
   "source": [
    "# Analyze the user data"
   ]
  },
  {
   "cell_type": "code",
   "execution_count": 47,
   "metadata": {
    "colab": {
     "base_uri": "https://localhost:8080/",
     "height": 316
    },
    "id": "5lf4uPEFXMk1",
    "outputId": "7e9beb9f-f708-41ea-8b02-02bc8e76df75"
   },
   "outputs": [
    {
     "data": {
      "text/plain": [
       "<AxesSubplot:>"
      ]
     },
     "execution_count": 47,
     "metadata": {},
     "output_type": "execute_result"
    },
    {
     "data": {
      "image/png": "[encoded data removed]",
      "text/plain": [
       "<Figure size 432x288 with 1 Axes>"
      ]
     },
     "metadata": {
      "needs_background": "light"
     },
     "output_type": "display_data"
    }
   ],
   "source": [
    "# age intervals distrubution\n",
    "#users.hist(column=\"age\")\n",
    "users[\"age_category\"] = pd.cut(users[\"age\"], bins = [0, 10, 20, 30, 40, 50, 60, 70, 80], labels=[5, 15, 25, 35, 45, 55, 65, 75])\n",
    "users[\"age_category\"].hist()\n"
   ]
  },
  {
   "cell_type": "code",
   "execution_count": 48,
   "metadata": {
    "colab": {
     "base_uri": "https://localhost:8080/",
     "height": 264
    },
    "id": "nf5Yol7Ntwcj",
    "outputId": "8e039847-ed6e-480a-fd64-d3b928fc864d"
   },
   "outputs": [
    {
     "data": {
      "image/png": "[encoded data removed]",
      "text/plain": [
       "<Figure size 432x288 with 1 Axes>"
      ]
     },
     "metadata": {},
     "output_type": "display_data"
    }
   ],
   "source": [
    "# occupation distrubution\n",
    "occupation_count = users[[\"user_id\", \"occupation\"]].groupby(\"occupation\", as_index=False).size()  # count the numbers\n",
    "plt.pie(occupation_count[\"size\"], labels=occupation_count[\"occupation\"])\n",
    "plt.title(\"User's Occupation Distribution\")\n",
    "plt.axis(\"equal\")\n",
    "plt.show()"
   ]
  },
  {
   "cell_type": "code",
   "execution_count": 64,
   "metadata": {},
   "outputs": [
    {
     "data": {
      "image/png": "[encoded data removed]",
      "text/plain": [
       "<Figure size 432x288 with 1 Axes>"
      ]
     },
     "metadata": {},
     "output_type": "display_data"
    }
   ],
   "source": [
    "genderRate = users[[\"user_id\", \"gender\"]].groupby(\"gender\", as_index=False).size()  # count the numbers\n",
    "plt.pie(genderRate[\"size\"], labels=genderRate[\"gender\"])\n",
    "plt.title(\"User's Gender Distribution\")\n",
    "plt.axis(\"equal\")\n",
    "plt.show()"
   ]
  },
  {
   "cell_type": "markdown",
   "metadata": {
    "id": "3oLIrN_UtiOU"
   },
   "source": [
    "# Analyze the movie data"
   ]
  },
  {
   "cell_type": "code",
   "execution_count": 90,
   "metadata": {},
   "outputs": [
    {
     "data": {
      "image/png": "[encoded data removed]",
      "text/plain": [
       "<Figure size 432x288 with 1 Axes>"
      ]
     },
     "metadata": {},
     "output_type": "display_data"
    }
   ],
   "source": [
    "film = pd.read_csv('u.item', sep='|', encoding='ISO-8859-1')\n",
    "film.columns = ['filmId', 'title', 'release date', 'video release date',\n",
    "              'IMDb URL', 'unknown', 'Action', 'Adventure', 'Animation',\n",
    "              'Children\\'s', 'Comedy', 'Crime', 'Documentary', 'Drama',\n",
    "              'Fantasy', 'Film-Noir', 'Horror', 'Musical', 'Mystery', 'Romance',\n",
    "               'Sci-Fi', 'Thriller', 'War', 'Western']\n",
    "columns = ['filmId', 'title', 'release date', 'video release date','IMDb URL']\n",
    "labels = ['unknown', 'Action', 'Adventure', 'Animation',\n",
    "              'Children\\'s', 'Comedy', 'Crime', 'Documentary', 'Drama',\n",
    "              'Fantasy', 'Film-Noir', 'Horror', 'Musical', 'Mystery', 'Romance',\n",
    "               'Sci-Fi', 'Thriller', 'War', 'Western']\n",
    "film = film.drop(columns, axis=1)\n",
    "X = []\n",
    "for column in film.columns:\n",
    "    X.append(film[column].value_counts()[1])\n",
    "plt.pie(X, labels = labels, autopct='%.1f%%')\n",
    "plt.title(\"Movie Types Distribution\")\n",
    "plt.axis(\"equal\")\n",
    "plt.show()"
   ]
  },
  {
   "cell_type": "code",
   "execution_count": 49,
   "metadata": {
    "id": "c54y0T7hthFF"
   },
   "outputs": [],
   "source": [
    "# Clustering the movies by genre\n",
    "genre = pd.read_csv(\"u.genre\", sep = '|', header = None)\n",
    "genre_list = genre[0].values\n",
    "movie_set_genre = movies[genre_list]"
   ]
  },
  {
   "cell_type": "markdown",
   "metadata": {},
   "source": [
    "非監督式學習的演算法，將一群資料分成k群(cluster)"
   ]
  },
  {
   "cell_type": "code",
   "execution_count": 60,
   "metadata": {
    "colab": {
     "base_uri": "https://localhost:8080/"
    },
    "id": "XsK8Rq9ZJyeF",
    "outputId": "0d15f26c-4e22-45fc-bfae-950d8b3f5238"
   },
   "outputs": [
    {
     "name": "stdout",
     "output_type": "stream",
     "text": [
      "2: 1785.4507001045156\n",
      "3: 1492.9656052998405\n",
      "4: 1350.192365485164\n",
      "5: 1274.4955812268395\n",
      "6: 1195.4433034928384\n",
      "7: 1135.204415034539\n",
      "8: 1043.0634318425748\n",
      "9: 1032.2906389866887\n",
      "10: 947.796074601095\n",
      "11: 875.4419501454228\n",
      "12: 831.0094258896319\n",
      "13: 804.335637010949\n",
      "14: 762.004916991392\n",
      "15: 727.9657076742562\n",
      "16: 696.7746239773134\n",
      "17: 686.6329896250372\n",
      "18: 661.0296182437734\n",
      "19: 633.3188350481989\n",
      "20: 609.8520133273119\n",
      "21: 591.2713336933209\n",
      "22: 578.9862920046365\n",
      "23: 550.4089691695103\n",
      "24: 539.3685779737177\n",
      "25: 527.322843676177\n",
      "26: 507.474055919905\n",
      "27: 492.79858577165277\n",
      "28: 482.87233644386475\n",
      "29: 471.282206155291\n",
      "30: 456.19140886436446\n",
      "31: 454.4249357617977\n",
      "32: 443.4202684954595\n",
      "33: 434.8787236449181\n",
      "34: 428.8016999640396\n",
      "35: 415.0822715233366\n",
      "36: 403.4446570245516\n",
      "37: 389.44341077981187\n",
      "38: 384.34733683605197\n",
      "39: 384.64361368266276\n",
      "40: 374.46702365809256\n",
      "41: 363.74063426021814\n",
      "42: 363.9321985614238\n",
      "43: 350.77775040082895\n",
      "44: 344.48962840867733\n",
      "45: 336.2720534375473\n",
      "46: 327.116453087843\n",
      "47: 326.3882146293362\n",
      "48: 318.0690544211313\n",
      "49: 312.1168571262521\n",
      "50: 306.5901493904811\n",
      "51: 305.96758633968534\n",
      "52: 296.7128715300194\n",
      "53: 295.00824858521696\n",
      "54: 282.4670840697109\n",
      "55: 276.7767170781895\n",
      "56: 274.7440171295747\n",
      "57: 266.97928108327085\n",
      "58: 259.7136430290989\n",
      "59: 257.3971852207757\n"
     ]
    },
    {
     "data": {
      "image/png": "[encoded data removed]",
      "text/plain": [
       "<Figure size 432x288 with 1 Axes>"
      ]
     },
     "metadata": {
      "needs_background": "light"
     },
     "output_type": "display_data"
    }
   ],
   "source": [
    "from sklearn.cluster import KMeans\n",
    "from sklearn.cluster import AgglomerativeClustering\n",
    "import numpy as np\n",
    "import matplotlib.pyplot as plt; \n",
    "from sklearn.metrics import silhouette_score\n",
    "x = []\n",
    "y = []\n",
    "for i in range(2, 60):\n",
    "    kmeans = KMeans(n_clusters = i)\n",
    "    kmeans.fit_predict(movie_set_genre)\n",
    "    print(str(i) + \": \" + str(kmeans.inertia_))\n",
    "    x.append(i)\n",
    "    y.append(silhouette_score(movie_set_genre, kmeans.labels_, metric='euclidean'))\n",
    "    \n",
    "    \n",
    "\n",
    "plt.title(\"K means Score\")\n",
    "plt.xlabel(\"X axis\")\n",
    "plt.ylabel(\"Y axis\")\n",
    "plt.plot(x, y, color = \"red\", marker = \"o\", label = \"Array elements\")\n",
    "plt.legend()\n",
    "plt.show()"
   ]
  },
  {
   "cell_type": "code",
   "execution_count": 26,
   "metadata": {
    "colab": {
     "base_uri": "https://localhost:8080/"
    },
    "id": "3DeYjfdcLHz-",
    "outputId": "0d0e2dd4-6b36-4d05-a389-46ed55d4752f"
   },
   "outputs": [
    {
     "data": {
      "text/plain": [
       "306.6277872583292"
      ]
     },
     "execution_count": 26,
     "metadata": {},
     "output_type": "execute_result"
    }
   ],
   "source": [
    "#kmeans.inertia_\n",
    "kmeans.inertia_"
   ]
  },
  {
   "cell_type": "code",
   "execution_count": 61,
   "metadata": {
    "colab": {
     "base_uri": "https://localhost:8080/"
    },
    "id": "Ki4lQcb3YBO7",
    "outputId": "bf28af13-a399-4335-810f-b5aa42b44364"
   },
   "outputs": [
    {
     "name": "stdout",
     "output_type": "stream",
     "text": [
      "0.42264973081037427\n",
      "1.4142135623730951\n",
      "0.6666666666666666\n"
     ]
    }
   ],
   "source": [
    "# compute the similarity between two movies\n",
    "import scipy.spatial.distance as sp_dist\n",
    "genre_array = movie_set_genre.to_numpy()\n",
    "\n",
    "x = genre_array[1]\n",
    "y = genre_array[2]\n",
    "print(sp_dist.cosine(x,y))\n",
    "print(sp_dist.euclidean(x,y))\n",
    "print(sp_dist.jaccard(x,y))"
   ]
  },
  {
   "cell_type": "code",
   "execution_count": 62,
   "metadata": {
    "colab": {
     "base_uri": "https://localhost:8080/"
    },
    "id": "d7jEvIvpaZQC",
    "outputId": "09ac448e-f9f2-4d8c-8efa-3062c50387e9"
   },
   "outputs": [
    {
     "name": "stdout",
     "output_type": "stream",
     "text": [
      "[[0.         1.         1.         ... 1.         0.66666667 1.        ]\n",
      " [1.         0.         0.66666667 ... 1.         1.         1.        ]\n",
      " [1.         0.66666667 0.         ... 1.         1.         1.        ]\n",
      " ...\n",
      " [1.         1.         1.         ... 0.         1.         0.5       ]\n",
      " [0.66666667 1.         1.         ... 1.         0.         1.        ]\n",
      " [1.         1.         1.         ... 0.5        1.         0.        ]]\n"
     ]
    },
    {
     "name": "stderr",
     "output_type": "stream",
     "text": [
      "D:\\anaconda3\\lib\\site-packages\\sklearn\\metrics\\pairwise.py:1776: DataConversionWarning: Data was converted to boolean for metric jaccard\n",
      "  warnings.warn(msg, DataConversionWarning)\n"
     ]
    }
   ],
   "source": [
    "# compute the matrix of all pairwise distances of movies\n",
    "import sklearn.metrics as metrics\n",
    "\n",
    "distance_matrix = metrics.pairwise_distances(genre_array,metric = 'jaccard') # ‘cosine’, ‘euclidean’, etc\n",
    "print(distance_matrix)"
   ]
  },
  {
   "cell_type": "code",
   "execution_count": null,
   "metadata": {},
   "outputs": [],
   "source": []
  }
 ],
 "metadata": {
  "colab": {
   "provenance": []
  },
  "kernelspec": {
   "display_name": "Python 3 (ipykernel)",
   "language": "python",
   "name": "python3"
  },
  "language_info": {
   "codemirror_mode": {
    "name": "ipython",
    "version": 3
   },
   "file_extension": ".py",
   "mimetype": "text/x-python",
   "name": "python",
   "nbconvert_exporter": "python",
   "pygments_lexer": "ipython3",
   "version": "3.9.7"
  }
 },
 "nbformat": 4,
 "nbformat_minor": 4
}
